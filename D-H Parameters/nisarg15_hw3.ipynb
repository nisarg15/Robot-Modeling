{
 "cells": [
  {
   "cell_type": "code",
   "execution_count": 6,
   "id": "a61a522d",
   "metadata": {},
   "outputs": [],
   "source": [
    "import sympy\n",
    "import math\n",
    "from sympy import Matrix \n",
    "import numpy as np\n",
    "d1,d3,d5,d7,a,t1,t2,t3,t4,t5,t6,t7 = sympy.symbols('d1 d3 d5 d7 a theta1 theta2 theta3 theta4 theta5 theta6 theta7')"
   ]
  },
  {
   "cell_type": "code",
   "execution_count": 7,
   "id": "7edbd802",
   "metadata": {},
   "outputs": [
    {
     "ename": "NameError",
     "evalue": "name 'cos' is not defined",
     "output_type": "error",
     "traceback": [
      "\u001b[1;31m---------------------------------------------------------------------------\u001b[0m",
      "\u001b[1;31mNameError\u001b[0m                                 Traceback (most recent call last)",
      "Input \u001b[1;32mIn [7]\u001b[0m, in \u001b[0;36m<cell line: 1>\u001b[1;34m()\u001b[0m\n\u001b[1;32m----> 1\u001b[0m A1 \u001b[38;5;241m=\u001b[39m Matrix([[\u001b[43mcos\u001b[49m(t1),\u001b[38;5;241m0\u001b[39m,sin(t1),\u001b[38;5;241m0\u001b[39m], [sin(t1),\u001b[38;5;241m0\u001b[39m,\u001b[38;5;241m-\u001b[39mcos(t1),\u001b[38;5;241m0\u001b[39m], [\u001b[38;5;241m0\u001b[39m,\u001b[38;5;241m1\u001b[39m,\u001b[38;5;241m0\u001b[39m,d1],[\u001b[38;5;241m0\u001b[39m,\u001b[38;5;241m0\u001b[39m,\u001b[38;5;241m0\u001b[39m,\u001b[38;5;241m1\u001b[39m]])\n\u001b[0;32m      2\u001b[0m A2 \u001b[38;5;241m=\u001b[39m Matrix([[cos(t2),\u001b[38;5;241m0\u001b[39m,\u001b[38;5;241m-\u001b[39msin(t2),\u001b[38;5;241m0\u001b[39m], [sin(t2),\u001b[38;5;241m0\u001b[39m,cos(t2),\u001b[38;5;241m0\u001b[39m], [\u001b[38;5;241m0\u001b[39m,\u001b[38;5;241m-\u001b[39m\u001b[38;5;241m1\u001b[39m,\u001b[38;5;241m0\u001b[39m,\u001b[38;5;241m0\u001b[39m],[\u001b[38;5;241m0\u001b[39m,\u001b[38;5;241m0\u001b[39m,\u001b[38;5;241m0\u001b[39m,\u001b[38;5;241m1\u001b[39m]])\n\u001b[0;32m      3\u001b[0m A3 \u001b[38;5;241m=\u001b[39mMatrix([[cos(t3),\u001b[38;5;241m0\u001b[39m,\u001b[38;5;241m-\u001b[39msin(t3),a\u001b[38;5;241m*\u001b[39mcos(t3)], [sin(t3),\u001b[38;5;241m0\u001b[39m,cos(t3),a\u001b[38;5;241m*\u001b[39msin(t3)], [\u001b[38;5;241m0\u001b[39m,\u001b[38;5;241m-\u001b[39m\u001b[38;5;241m1\u001b[39m,\u001b[38;5;241m0\u001b[39m,d3],[\u001b[38;5;241m0\u001b[39m,\u001b[38;5;241m0\u001b[39m,\u001b[38;5;241m0\u001b[39m,\u001b[38;5;241m1\u001b[39m]])\n",
      "\u001b[1;31mNameError\u001b[0m: name 'cos' is not defined"
     ]
    }
   ],
   "source": [
    "A1 = Matrix([[cos(t1),0,sin(t1),0], [sin(t1),0,-cos(t1),0], [0,1,0,d1],[0,0,0,1]])\n",
    "A2 = Matrix([[cos(t2),0,-sin(t2),0], [sin(t2),0,cos(t2),0], [0,-1,0,0],[0,0,0,1]])\n",
    "A3 =Matrix([[cos(t3),0,-sin(t3),a*cos(t3)], [sin(t3),0,cos(t3),a*sin(t3)], [0,-1,0,d3],[0,0,0,1]])\n",
    "A4 = Matrix([[cos(t4),0,sin(t4),-a*cos(t4)], [sin(t4),0,-cos(t4),-a*sin(t4)], [0,1,0,0],[0,0,0,1]])\n",
    "A5 = Matrix([[cos(t5),0,sin(t5),0], [sin(t5),0,-cos(t5),0], [0,1,0,d5],[0,0,0,1]])\n",
    "A6 = Matrix([[cos(t6),0,-sin(t6),a*cos(t6)], [sin(t6),0,cos(t6),a*sin(t6)], [0,-1,0,0],[0,0,0,1]])\n",
    "A7 = Matrix([[cos(t7),-sin(t7),0,0], [sin(t7),cos(t7),0,0], [0,0,1,-d7],[0,0,0,1]])"
   ]
  },
  {
   "cell_type": "code",
   "execution_count": 4,
   "id": "717ade15",
   "metadata": {},
   "outputs": [
    {
     "ename": "NameError",
     "evalue": "name 'A1' is not defined",
     "output_type": "error",
     "traceback": [
      "\u001b[1;31m---------------------------------------------------------------------------\u001b[0m",
      "\u001b[1;31mNameError\u001b[0m                                 Traceback (most recent call last)",
      "Input \u001b[1;32mIn [4]\u001b[0m, in \u001b[0;36m<cell line: 1>\u001b[1;34m()\u001b[0m\n\u001b[1;32m----> 1\u001b[0m \u001b[43mA1\u001b[49m\n",
      "\u001b[1;31mNameError\u001b[0m: name 'A1' is not defined"
     ]
    }
   ],
   "source": [
    "A1 "
   ]
  },
  {
   "cell_type": "code",
   "execution_count": 5,
   "id": "012cb3b1",
   "metadata": {},
   "outputs": [
    {
     "ename": "NameError",
     "evalue": "name 'A2' is not defined",
     "output_type": "error",
     "traceback": [
      "\u001b[1;31m---------------------------------------------------------------------------\u001b[0m",
      "\u001b[1;31mNameError\u001b[0m                                 Traceback (most recent call last)",
      "Input \u001b[1;32mIn [5]\u001b[0m, in \u001b[0;36m<cell line: 1>\u001b[1;34m()\u001b[0m\n\u001b[1;32m----> 1\u001b[0m \u001b[43mA2\u001b[49m\n",
      "\u001b[1;31mNameError\u001b[0m: name 'A2' is not defined"
     ]
    }
   ],
   "source": [
    "A2"
   ]
  },
  {
   "cell_type": "code",
   "execution_count": 121,
   "id": "decac95c",
   "metadata": {},
   "outputs": [
    {
     "data": {
      "text/latex": [
       "$\\displaystyle \\left[\\begin{matrix}\\cos{\\left(\\theta_{3} \\right)} & 0 & - \\sin{\\left(\\theta_{3} \\right)} & a \\cos{\\left(\\theta_{3} \\right)}\\\\\\sin{\\left(\\theta_{3} \\right)} & 0 & \\cos{\\left(\\theta_{3} \\right)} & a \\sin{\\left(\\theta_{3} \\right)}\\\\0 & -1 & 0 & d_{3}\\\\0 & 0 & 0 & 1\\end{matrix}\\right]$"
      ],
      "text/plain": [
       "Matrix([\n",
       "[cos(theta3),  0, -sin(theta3), a*cos(theta3)],\n",
       "[sin(theta3),  0,  cos(theta3), a*sin(theta3)],\n",
       "[          0, -1,            0,            d3],\n",
       "[          0,  0,            0,             1]])"
      ]
     },
     "execution_count": 121,
     "metadata": {},
     "output_type": "execute_result"
    }
   ],
   "source": [
    "A3"
   ]
  },
  {
   "cell_type": "code",
   "execution_count": 122,
   "id": "4d6352f3",
   "metadata": {},
   "outputs": [
    {
     "data": {
      "text/latex": [
       "$\\displaystyle \\left[\\begin{matrix}\\cos{\\left(\\theta_{4} \\right)} & 0 & \\sin{\\left(\\theta_{4} \\right)} & - a \\cos{\\left(\\theta_{4} \\right)}\\\\\\sin{\\left(\\theta_{4} \\right)} & 0 & - \\cos{\\left(\\theta_{4} \\right)} & - a \\sin{\\left(\\theta_{4} \\right)}\\\\0 & 1 & 0 & 0\\\\0 & 0 & 0 & 1\\end{matrix}\\right]$"
      ],
      "text/plain": [
       "Matrix([\n",
       "[cos(theta4), 0,  sin(theta4), -a*cos(theta4)],\n",
       "[sin(theta4), 0, -cos(theta4), -a*sin(theta4)],\n",
       "[          0, 1,            0,              0],\n",
       "[          0, 0,            0,              1]])"
      ]
     },
     "execution_count": 122,
     "metadata": {},
     "output_type": "execute_result"
    }
   ],
   "source": [
    "A4"
   ]
  },
  {
   "cell_type": "code",
   "execution_count": 123,
   "id": "6a2048a2",
   "metadata": {},
   "outputs": [
    {
     "data": {
      "text/latex": [
       "$\\displaystyle \\left[\\begin{matrix}\\cos{\\left(\\theta_{5} \\right)} & 0 & \\sin{\\left(\\theta_{5} \\right)} & 0\\\\\\sin{\\left(\\theta_{5} \\right)} & 0 & - \\cos{\\left(\\theta_{5} \\right)} & 0\\\\0 & 1 & 0 & d_{5}\\\\0 & 0 & 0 & 1\\end{matrix}\\right]$"
      ],
      "text/plain": [
       "Matrix([\n",
       "[cos(theta5), 0,  sin(theta5),  0],\n",
       "[sin(theta5), 0, -cos(theta5),  0],\n",
       "[          0, 1,            0, d5],\n",
       "[          0, 0,            0,  1]])"
      ]
     },
     "execution_count": 123,
     "metadata": {},
     "output_type": "execute_result"
    }
   ],
   "source": [
    "A5"
   ]
  },
  {
   "cell_type": "code",
   "execution_count": 124,
   "id": "6d9af08d",
   "metadata": {},
   "outputs": [
    {
     "data": {
      "text/latex": [
       "$\\displaystyle \\left[\\begin{matrix}\\cos{\\left(\\theta_{6} \\right)} & 0 & - \\sin{\\left(\\theta_{6} \\right)} & a \\cos{\\left(\\theta_{6} \\right)}\\\\\\sin{\\left(\\theta_{6} \\right)} & 0 & \\cos{\\left(\\theta_{6} \\right)} & a \\sin{\\left(\\theta_{6} \\right)}\\\\0 & -1 & 0 & 0\\\\0 & 0 & 0 & 1\\end{matrix}\\right]$"
      ],
      "text/plain": [
       "Matrix([\n",
       "[cos(theta6),  0, -sin(theta6), a*cos(theta6)],\n",
       "[sin(theta6),  0,  cos(theta6), a*sin(theta6)],\n",
       "[          0, -1,            0,             0],\n",
       "[          0,  0,            0,             1]])"
      ]
     },
     "execution_count": 124,
     "metadata": {},
     "output_type": "execute_result"
    }
   ],
   "source": [
    "A6"
   ]
  },
  {
   "cell_type": "code",
   "execution_count": 125,
   "id": "9660a0db",
   "metadata": {},
   "outputs": [
    {
     "data": {
      "text/latex": [
       "$\\displaystyle \\left[\\begin{matrix}\\cos{\\left(\\theta_{7} \\right)} & - \\sin{\\left(\\theta_{7} \\right)} & 0 & 0\\\\\\sin{\\left(\\theta_{7} \\right)} & \\cos{\\left(\\theta_{7} \\right)} & 0 & 0\\\\0 & 0 & 1 & - d_{7}\\\\0 & 0 & 0 & 1\\end{matrix}\\right]$"
      ],
      "text/plain": [
       "Matrix([\n",
       "[cos(theta7), -sin(theta7), 0,   0],\n",
       "[sin(theta7),  cos(theta7), 0,   0],\n",
       "[          0,            0, 1, -d7],\n",
       "[          0,            0, 0,   1]])"
      ]
     },
     "execution_count": 125,
     "metadata": {},
     "output_type": "execute_result"
    }
   ],
   "source": [
    "A7"
   ]
  },
  {
   "cell_type": "code",
   "execution_count": 126,
   "id": "97054a02",
   "metadata": {},
   "outputs": [
    {
     "data": {
      "text/latex": [
       "$\\displaystyle \\left[\\begin{matrix}\\left(\\left(\\left(\\left(- \\sin{\\left(\\theta_{1} \\right)} \\sin{\\left(\\theta_{3} \\right)} + \\cos{\\left(\\theta_{1} \\right)} \\cos{\\left(\\theta_{2} \\right)} \\cos{\\left(\\theta_{3} \\right)}\\right) \\cos{\\left(\\theta_{4} \\right)} + \\sin{\\left(\\theta_{2} \\right)} \\sin{\\left(\\theta_{4} \\right)} \\cos{\\left(\\theta_{1} \\right)}\\right) \\cos{\\left(\\theta_{5} \\right)} + \\left(- \\sin{\\left(\\theta_{1} \\right)} \\cos{\\left(\\theta_{3} \\right)} - \\sin{\\left(\\theta_{3} \\right)} \\cos{\\left(\\theta_{1} \\right)} \\cos{\\left(\\theta_{2} \\right)}\\right) \\sin{\\left(\\theta_{5} \\right)}\\right) \\cos{\\left(\\theta_{6} \\right)} + \\left(\\left(- \\sin{\\left(\\theta_{1} \\right)} \\sin{\\left(\\theta_{3} \\right)} + \\cos{\\left(\\theta_{1} \\right)} \\cos{\\left(\\theta_{2} \\right)} \\cos{\\left(\\theta_{3} \\right)}\\right) \\sin{\\left(\\theta_{4} \\right)} - \\sin{\\left(\\theta_{2} \\right)} \\cos{\\left(\\theta_{1} \\right)} \\cos{\\left(\\theta_{4} \\right)}\\right) \\sin{\\left(\\theta_{6} \\right)}\\right) \\cos{\\left(\\theta_{7} \\right)} + \\left(- \\left(\\left(- \\sin{\\left(\\theta_{1} \\right)} \\sin{\\left(\\theta_{3} \\right)} + \\cos{\\left(\\theta_{1} \\right)} \\cos{\\left(\\theta_{2} \\right)} \\cos{\\left(\\theta_{3} \\right)}\\right) \\cos{\\left(\\theta_{4} \\right)} + \\sin{\\left(\\theta_{2} \\right)} \\sin{\\left(\\theta_{4} \\right)} \\cos{\\left(\\theta_{1} \\right)}\\right) \\sin{\\left(\\theta_{5} \\right)} + \\left(- \\sin{\\left(\\theta_{1} \\right)} \\cos{\\left(\\theta_{3} \\right)} - \\sin{\\left(\\theta_{3} \\right)} \\cos{\\left(\\theta_{1} \\right)} \\cos{\\left(\\theta_{2} \\right)}\\right) \\cos{\\left(\\theta_{5} \\right)}\\right) \\sin{\\left(\\theta_{7} \\right)} & - \\left(\\left(\\left(\\left(- \\sin{\\left(\\theta_{1} \\right)} \\sin{\\left(\\theta_{3} \\right)} + \\cos{\\left(\\theta_{1} \\right)} \\cos{\\left(\\theta_{2} \\right)} \\cos{\\left(\\theta_{3} \\right)}\\right) \\cos{\\left(\\theta_{4} \\right)} + \\sin{\\left(\\theta_{2} \\right)} \\sin{\\left(\\theta_{4} \\right)} \\cos{\\left(\\theta_{1} \\right)}\\right) \\cos{\\left(\\theta_{5} \\right)} + \\left(- \\sin{\\left(\\theta_{1} \\right)} \\cos{\\left(\\theta_{3} \\right)} - \\sin{\\left(\\theta_{3} \\right)} \\cos{\\left(\\theta_{1} \\right)} \\cos{\\left(\\theta_{2} \\right)}\\right) \\sin{\\left(\\theta_{5} \\right)}\\right) \\cos{\\left(\\theta_{6} \\right)} + \\left(\\left(- \\sin{\\left(\\theta_{1} \\right)} \\sin{\\left(\\theta_{3} \\right)} + \\cos{\\left(\\theta_{1} \\right)} \\cos{\\left(\\theta_{2} \\right)} \\cos{\\left(\\theta_{3} \\right)}\\right) \\sin{\\left(\\theta_{4} \\right)} - \\sin{\\left(\\theta_{2} \\right)} \\cos{\\left(\\theta_{1} \\right)} \\cos{\\left(\\theta_{4} \\right)}\\right) \\sin{\\left(\\theta_{6} \\right)}\\right) \\sin{\\left(\\theta_{7} \\right)} + \\left(- \\left(\\left(- \\sin{\\left(\\theta_{1} \\right)} \\sin{\\left(\\theta_{3} \\right)} + \\cos{\\left(\\theta_{1} \\right)} \\cos{\\left(\\theta_{2} \\right)} \\cos{\\left(\\theta_{3} \\right)}\\right) \\cos{\\left(\\theta_{4} \\right)} + \\sin{\\left(\\theta_{2} \\right)} \\sin{\\left(\\theta_{4} \\right)} \\cos{\\left(\\theta_{1} \\right)}\\right) \\sin{\\left(\\theta_{5} \\right)} + \\left(- \\sin{\\left(\\theta_{1} \\right)} \\cos{\\left(\\theta_{3} \\right)} - \\sin{\\left(\\theta_{3} \\right)} \\cos{\\left(\\theta_{1} \\right)} \\cos{\\left(\\theta_{2} \\right)}\\right) \\cos{\\left(\\theta_{5} \\right)}\\right) \\cos{\\left(\\theta_{7} \\right)} & - \\left(\\left(\\left(- \\sin{\\left(\\theta_{1} \\right)} \\sin{\\left(\\theta_{3} \\right)} + \\cos{\\left(\\theta_{1} \\right)} \\cos{\\left(\\theta_{2} \\right)} \\cos{\\left(\\theta_{3} \\right)}\\right) \\cos{\\left(\\theta_{4} \\right)} + \\sin{\\left(\\theta_{2} \\right)} \\sin{\\left(\\theta_{4} \\right)} \\cos{\\left(\\theta_{1} \\right)}\\right) \\cos{\\left(\\theta_{5} \\right)} + \\left(- \\sin{\\left(\\theta_{1} \\right)} \\cos{\\left(\\theta_{3} \\right)} - \\sin{\\left(\\theta_{3} \\right)} \\cos{\\left(\\theta_{1} \\right)} \\cos{\\left(\\theta_{2} \\right)}\\right) \\sin{\\left(\\theta_{5} \\right)}\\right) \\sin{\\left(\\theta_{6} \\right)} + \\left(\\left(- \\sin{\\left(\\theta_{1} \\right)} \\sin{\\left(\\theta_{3} \\right)} + \\cos{\\left(\\theta_{1} \\right)} \\cos{\\left(\\theta_{2} \\right)} \\cos{\\left(\\theta_{3} \\right)}\\right) \\sin{\\left(\\theta_{4} \\right)} - \\sin{\\left(\\theta_{2} \\right)} \\cos{\\left(\\theta_{1} \\right)} \\cos{\\left(\\theta_{4} \\right)}\\right) \\cos{\\left(\\theta_{6} \\right)} & a \\left(\\left(\\left(- \\sin{\\left(\\theta_{1} \\right)} \\sin{\\left(\\theta_{3} \\right)} + \\cos{\\left(\\theta_{1} \\right)} \\cos{\\left(\\theta_{2} \\right)} \\cos{\\left(\\theta_{3} \\right)}\\right) \\cos{\\left(\\theta_{4} \\right)} + \\sin{\\left(\\theta_{2} \\right)} \\sin{\\left(\\theta_{4} \\right)} \\cos{\\left(\\theta_{1} \\right)}\\right) \\cos{\\left(\\theta_{5} \\right)} + \\left(- \\sin{\\left(\\theta_{1} \\right)} \\cos{\\left(\\theta_{3} \\right)} - \\sin{\\left(\\theta_{3} \\right)} \\cos{\\left(\\theta_{1} \\right)} \\cos{\\left(\\theta_{2} \\right)}\\right) \\sin{\\left(\\theta_{5} \\right)}\\right) \\cos{\\left(\\theta_{6} \\right)} + a \\left(\\left(- \\sin{\\left(\\theta_{1} \\right)} \\sin{\\left(\\theta_{3} \\right)} + \\cos{\\left(\\theta_{1} \\right)} \\cos{\\left(\\theta_{2} \\right)} \\cos{\\left(\\theta_{3} \\right)}\\right) \\sin{\\left(\\theta_{4} \\right)} - \\sin{\\left(\\theta_{2} \\right)} \\cos{\\left(\\theta_{1} \\right)} \\cos{\\left(\\theta_{4} \\right)}\\right) \\sin{\\left(\\theta_{6} \\right)} - a \\left(- \\sin{\\left(\\theta_{1} \\right)} \\sin{\\left(\\theta_{3} \\right)} + \\cos{\\left(\\theta_{1} \\right)} \\cos{\\left(\\theta_{2} \\right)} \\cos{\\left(\\theta_{3} \\right)}\\right) \\cos{\\left(\\theta_{4} \\right)} - a \\sin{\\left(\\theta_{1} \\right)} \\sin{\\left(\\theta_{3} \\right)} - a \\sin{\\left(\\theta_{2} \\right)} \\sin{\\left(\\theta_{4} \\right)} \\cos{\\left(\\theta_{1} \\right)} + a \\cos{\\left(\\theta_{1} \\right)} \\cos{\\left(\\theta_{2} \\right)} \\cos{\\left(\\theta_{3} \\right)} - d_{3} \\sin{\\left(\\theta_{2} \\right)} \\cos{\\left(\\theta_{1} \\right)} + d_{5} \\left(\\left(- \\sin{\\left(\\theta_{1} \\right)} \\sin{\\left(\\theta_{3} \\right)} + \\cos{\\left(\\theta_{1} \\right)} \\cos{\\left(\\theta_{2} \\right)} \\cos{\\left(\\theta_{3} \\right)}\\right) \\sin{\\left(\\theta_{4} \\right)} - \\sin{\\left(\\theta_{2} \\right)} \\cos{\\left(\\theta_{1} \\right)} \\cos{\\left(\\theta_{4} \\right)}\\right) - d_{7} \\left(- \\left(\\left(\\left(- \\sin{\\left(\\theta_{1} \\right)} \\sin{\\left(\\theta_{3} \\right)} + \\cos{\\left(\\theta_{1} \\right)} \\cos{\\left(\\theta_{2} \\right)} \\cos{\\left(\\theta_{3} \\right)}\\right) \\cos{\\left(\\theta_{4} \\right)} + \\sin{\\left(\\theta_{2} \\right)} \\sin{\\left(\\theta_{4} \\right)} \\cos{\\left(\\theta_{1} \\right)}\\right) \\cos{\\left(\\theta_{5} \\right)} + \\left(- \\sin{\\left(\\theta_{1} \\right)} \\cos{\\left(\\theta_{3} \\right)} - \\sin{\\left(\\theta_{3} \\right)} \\cos{\\left(\\theta_{1} \\right)} \\cos{\\left(\\theta_{2} \\right)}\\right) \\sin{\\left(\\theta_{5} \\right)}\\right) \\sin{\\left(\\theta_{6} \\right)} + \\left(\\left(- \\sin{\\left(\\theta_{1} \\right)} \\sin{\\left(\\theta_{3} \\right)} + \\cos{\\left(\\theta_{1} \\right)} \\cos{\\left(\\theta_{2} \\right)} \\cos{\\left(\\theta_{3} \\right)}\\right) \\sin{\\left(\\theta_{4} \\right)} - \\sin{\\left(\\theta_{2} \\right)} \\cos{\\left(\\theta_{1} \\right)} \\cos{\\left(\\theta_{4} \\right)}\\right) \\cos{\\left(\\theta_{6} \\right)}\\right)\\\\\\left(\\left(\\left(\\left(\\sin{\\left(\\theta_{1} \\right)} \\cos{\\left(\\theta_{2} \\right)} \\cos{\\left(\\theta_{3} \\right)} + \\sin{\\left(\\theta_{3} \\right)} \\cos{\\left(\\theta_{1} \\right)}\\right) \\cos{\\left(\\theta_{4} \\right)} + \\sin{\\left(\\theta_{1} \\right)} \\sin{\\left(\\theta_{2} \\right)} \\sin{\\left(\\theta_{4} \\right)}\\right) \\cos{\\left(\\theta_{5} \\right)} + \\left(- \\sin{\\left(\\theta_{1} \\right)} \\sin{\\left(\\theta_{3} \\right)} \\cos{\\left(\\theta_{2} \\right)} + \\cos{\\left(\\theta_{1} \\right)} \\cos{\\left(\\theta_{3} \\right)}\\right) \\sin{\\left(\\theta_{5} \\right)}\\right) \\cos{\\left(\\theta_{6} \\right)} + \\left(\\left(\\sin{\\left(\\theta_{1} \\right)} \\cos{\\left(\\theta_{2} \\right)} \\cos{\\left(\\theta_{3} \\right)} + \\sin{\\left(\\theta_{3} \\right)} \\cos{\\left(\\theta_{1} \\right)}\\right) \\sin{\\left(\\theta_{4} \\right)} - \\sin{\\left(\\theta_{1} \\right)} \\sin{\\left(\\theta_{2} \\right)} \\cos{\\left(\\theta_{4} \\right)}\\right) \\sin{\\left(\\theta_{6} \\right)}\\right) \\cos{\\left(\\theta_{7} \\right)} + \\left(- \\left(\\left(\\sin{\\left(\\theta_{1} \\right)} \\cos{\\left(\\theta_{2} \\right)} \\cos{\\left(\\theta_{3} \\right)} + \\sin{\\left(\\theta_{3} \\right)} \\cos{\\left(\\theta_{1} \\right)}\\right) \\cos{\\left(\\theta_{4} \\right)} + \\sin{\\left(\\theta_{1} \\right)} \\sin{\\left(\\theta_{2} \\right)} \\sin{\\left(\\theta_{4} \\right)}\\right) \\sin{\\left(\\theta_{5} \\right)} + \\left(- \\sin{\\left(\\theta_{1} \\right)} \\sin{\\left(\\theta_{3} \\right)} \\cos{\\left(\\theta_{2} \\right)} + \\cos{\\left(\\theta_{1} \\right)} \\cos{\\left(\\theta_{3} \\right)}\\right) \\cos{\\left(\\theta_{5} \\right)}\\right) \\sin{\\left(\\theta_{7} \\right)} & - \\left(\\left(\\left(\\left(\\sin{\\left(\\theta_{1} \\right)} \\cos{\\left(\\theta_{2} \\right)} \\cos{\\left(\\theta_{3} \\right)} + \\sin{\\left(\\theta_{3} \\right)} \\cos{\\left(\\theta_{1} \\right)}\\right) \\cos{\\left(\\theta_{4} \\right)} + \\sin{\\left(\\theta_{1} \\right)} \\sin{\\left(\\theta_{2} \\right)} \\sin{\\left(\\theta_{4} \\right)}\\right) \\cos{\\left(\\theta_{5} \\right)} + \\left(- \\sin{\\left(\\theta_{1} \\right)} \\sin{\\left(\\theta_{3} \\right)} \\cos{\\left(\\theta_{2} \\right)} + \\cos{\\left(\\theta_{1} \\right)} \\cos{\\left(\\theta_{3} \\right)}\\right) \\sin{\\left(\\theta_{5} \\right)}\\right) \\cos{\\left(\\theta_{6} \\right)} + \\left(\\left(\\sin{\\left(\\theta_{1} \\right)} \\cos{\\left(\\theta_{2} \\right)} \\cos{\\left(\\theta_{3} \\right)} + \\sin{\\left(\\theta_{3} \\right)} \\cos{\\left(\\theta_{1} \\right)}\\right) \\sin{\\left(\\theta_{4} \\right)} - \\sin{\\left(\\theta_{1} \\right)} \\sin{\\left(\\theta_{2} \\right)} \\cos{\\left(\\theta_{4} \\right)}\\right) \\sin{\\left(\\theta_{6} \\right)}\\right) \\sin{\\left(\\theta_{7} \\right)} + \\left(- \\left(\\left(\\sin{\\left(\\theta_{1} \\right)} \\cos{\\left(\\theta_{2} \\right)} \\cos{\\left(\\theta_{3} \\right)} + \\sin{\\left(\\theta_{3} \\right)} \\cos{\\left(\\theta_{1} \\right)}\\right) \\cos{\\left(\\theta_{4} \\right)} + \\sin{\\left(\\theta_{1} \\right)} \\sin{\\left(\\theta_{2} \\right)} \\sin{\\left(\\theta_{4} \\right)}\\right) \\sin{\\left(\\theta_{5} \\right)} + \\left(- \\sin{\\left(\\theta_{1} \\right)} \\sin{\\left(\\theta_{3} \\right)} \\cos{\\left(\\theta_{2} \\right)} + \\cos{\\left(\\theta_{1} \\right)} \\cos{\\left(\\theta_{3} \\right)}\\right) \\cos{\\left(\\theta_{5} \\right)}\\right) \\cos{\\left(\\theta_{7} \\right)} & - \\left(\\left(\\left(\\sin{\\left(\\theta_{1} \\right)} \\cos{\\left(\\theta_{2} \\right)} \\cos{\\left(\\theta_{3} \\right)} + \\sin{\\left(\\theta_{3} \\right)} \\cos{\\left(\\theta_{1} \\right)}\\right) \\cos{\\left(\\theta_{4} \\right)} + \\sin{\\left(\\theta_{1} \\right)} \\sin{\\left(\\theta_{2} \\right)} \\sin{\\left(\\theta_{4} \\right)}\\right) \\cos{\\left(\\theta_{5} \\right)} + \\left(- \\sin{\\left(\\theta_{1} \\right)} \\sin{\\left(\\theta_{3} \\right)} \\cos{\\left(\\theta_{2} \\right)} + \\cos{\\left(\\theta_{1} \\right)} \\cos{\\left(\\theta_{3} \\right)}\\right) \\sin{\\left(\\theta_{5} \\right)}\\right) \\sin{\\left(\\theta_{6} \\right)} + \\left(\\left(\\sin{\\left(\\theta_{1} \\right)} \\cos{\\left(\\theta_{2} \\right)} \\cos{\\left(\\theta_{3} \\right)} + \\sin{\\left(\\theta_{3} \\right)} \\cos{\\left(\\theta_{1} \\right)}\\right) \\sin{\\left(\\theta_{4} \\right)} - \\sin{\\left(\\theta_{1} \\right)} \\sin{\\left(\\theta_{2} \\right)} \\cos{\\left(\\theta_{4} \\right)}\\right) \\cos{\\left(\\theta_{6} \\right)} & a \\left(\\left(\\left(\\sin{\\left(\\theta_{1} \\right)} \\cos{\\left(\\theta_{2} \\right)} \\cos{\\left(\\theta_{3} \\right)} + \\sin{\\left(\\theta_{3} \\right)} \\cos{\\left(\\theta_{1} \\right)}\\right) \\cos{\\left(\\theta_{4} \\right)} + \\sin{\\left(\\theta_{1} \\right)} \\sin{\\left(\\theta_{2} \\right)} \\sin{\\left(\\theta_{4} \\right)}\\right) \\cos{\\left(\\theta_{5} \\right)} + \\left(- \\sin{\\left(\\theta_{1} \\right)} \\sin{\\left(\\theta_{3} \\right)} \\cos{\\left(\\theta_{2} \\right)} + \\cos{\\left(\\theta_{1} \\right)} \\cos{\\left(\\theta_{3} \\right)}\\right) \\sin{\\left(\\theta_{5} \\right)}\\right) \\cos{\\left(\\theta_{6} \\right)} + a \\left(\\left(\\sin{\\left(\\theta_{1} \\right)} \\cos{\\left(\\theta_{2} \\right)} \\cos{\\left(\\theta_{3} \\right)} + \\sin{\\left(\\theta_{3} \\right)} \\cos{\\left(\\theta_{1} \\right)}\\right) \\sin{\\left(\\theta_{4} \\right)} - \\sin{\\left(\\theta_{1} \\right)} \\sin{\\left(\\theta_{2} \\right)} \\cos{\\left(\\theta_{4} \\right)}\\right) \\sin{\\left(\\theta_{6} \\right)} - a \\left(\\sin{\\left(\\theta_{1} \\right)} \\cos{\\left(\\theta_{2} \\right)} \\cos{\\left(\\theta_{3} \\right)} + \\sin{\\left(\\theta_{3} \\right)} \\cos{\\left(\\theta_{1} \\right)}\\right) \\cos{\\left(\\theta_{4} \\right)} - a \\sin{\\left(\\theta_{1} \\right)} \\sin{\\left(\\theta_{2} \\right)} \\sin{\\left(\\theta_{4} \\right)} + a \\sin{\\left(\\theta_{1} \\right)} \\cos{\\left(\\theta_{2} \\right)} \\cos{\\left(\\theta_{3} \\right)} + a \\sin{\\left(\\theta_{3} \\right)} \\cos{\\left(\\theta_{1} \\right)} - d_{3} \\sin{\\left(\\theta_{1} \\right)} \\sin{\\left(\\theta_{2} \\right)} + d_{5} \\left(\\left(\\sin{\\left(\\theta_{1} \\right)} \\cos{\\left(\\theta_{2} \\right)} \\cos{\\left(\\theta_{3} \\right)} + \\sin{\\left(\\theta_{3} \\right)} \\cos{\\left(\\theta_{1} \\right)}\\right) \\sin{\\left(\\theta_{4} \\right)} - \\sin{\\left(\\theta_{1} \\right)} \\sin{\\left(\\theta_{2} \\right)} \\cos{\\left(\\theta_{4} \\right)}\\right) - d_{7} \\left(- \\left(\\left(\\left(\\sin{\\left(\\theta_{1} \\right)} \\cos{\\left(\\theta_{2} \\right)} \\cos{\\left(\\theta_{3} \\right)} + \\sin{\\left(\\theta_{3} \\right)} \\cos{\\left(\\theta_{1} \\right)}\\right) \\cos{\\left(\\theta_{4} \\right)} + \\sin{\\left(\\theta_{1} \\right)} \\sin{\\left(\\theta_{2} \\right)} \\sin{\\left(\\theta_{4} \\right)}\\right) \\cos{\\left(\\theta_{5} \\right)} + \\left(- \\sin{\\left(\\theta_{1} \\right)} \\sin{\\left(\\theta_{3} \\right)} \\cos{\\left(\\theta_{2} \\right)} + \\cos{\\left(\\theta_{1} \\right)} \\cos{\\left(\\theta_{3} \\right)}\\right) \\sin{\\left(\\theta_{5} \\right)}\\right) \\sin{\\left(\\theta_{6} \\right)} + \\left(\\left(\\sin{\\left(\\theta_{1} \\right)} \\cos{\\left(\\theta_{2} \\right)} \\cos{\\left(\\theta_{3} \\right)} + \\sin{\\left(\\theta_{3} \\right)} \\cos{\\left(\\theta_{1} \\right)}\\right) \\sin{\\left(\\theta_{4} \\right)} - \\sin{\\left(\\theta_{1} \\right)} \\sin{\\left(\\theta_{2} \\right)} \\cos{\\left(\\theta_{4} \\right)}\\right) \\cos{\\left(\\theta_{6} \\right)}\\right)\\\\\\left(\\left(\\left(\\sin{\\left(\\theta_{2} \\right)} \\cos{\\left(\\theta_{3} \\right)} \\cos{\\left(\\theta_{4} \\right)} - \\sin{\\left(\\theta_{4} \\right)} \\cos{\\left(\\theta_{2} \\right)}\\right) \\cos{\\left(\\theta_{5} \\right)} - \\sin{\\left(\\theta_{2} \\right)} \\sin{\\left(\\theta_{3} \\right)} \\sin{\\left(\\theta_{5} \\right)}\\right) \\cos{\\left(\\theta_{6} \\right)} + \\left(\\sin{\\left(\\theta_{2} \\right)} \\sin{\\left(\\theta_{4} \\right)} \\cos{\\left(\\theta_{3} \\right)} + \\cos{\\left(\\theta_{2} \\right)} \\cos{\\left(\\theta_{4} \\right)}\\right) \\sin{\\left(\\theta_{6} \\right)}\\right) \\cos{\\left(\\theta_{7} \\right)} + \\left(- \\left(\\sin{\\left(\\theta_{2} \\right)} \\cos{\\left(\\theta_{3} \\right)} \\cos{\\left(\\theta_{4} \\right)} - \\sin{\\left(\\theta_{4} \\right)} \\cos{\\left(\\theta_{2} \\right)}\\right) \\sin{\\left(\\theta_{5} \\right)} - \\sin{\\left(\\theta_{2} \\right)} \\sin{\\left(\\theta_{3} \\right)} \\cos{\\left(\\theta_{5} \\right)}\\right) \\sin{\\left(\\theta_{7} \\right)} & - \\left(\\left(\\left(\\sin{\\left(\\theta_{2} \\right)} \\cos{\\left(\\theta_{3} \\right)} \\cos{\\left(\\theta_{4} \\right)} - \\sin{\\left(\\theta_{4} \\right)} \\cos{\\left(\\theta_{2} \\right)}\\right) \\cos{\\left(\\theta_{5} \\right)} - \\sin{\\left(\\theta_{2} \\right)} \\sin{\\left(\\theta_{3} \\right)} \\sin{\\left(\\theta_{5} \\right)}\\right) \\cos{\\left(\\theta_{6} \\right)} + \\left(\\sin{\\left(\\theta_{2} \\right)} \\sin{\\left(\\theta_{4} \\right)} \\cos{\\left(\\theta_{3} \\right)} + \\cos{\\left(\\theta_{2} \\right)} \\cos{\\left(\\theta_{4} \\right)}\\right) \\sin{\\left(\\theta_{6} \\right)}\\right) \\sin{\\left(\\theta_{7} \\right)} + \\left(- \\left(\\sin{\\left(\\theta_{2} \\right)} \\cos{\\left(\\theta_{3} \\right)} \\cos{\\left(\\theta_{4} \\right)} - \\sin{\\left(\\theta_{4} \\right)} \\cos{\\left(\\theta_{2} \\right)}\\right) \\sin{\\left(\\theta_{5} \\right)} - \\sin{\\left(\\theta_{2} \\right)} \\sin{\\left(\\theta_{3} \\right)} \\cos{\\left(\\theta_{5} \\right)}\\right) \\cos{\\left(\\theta_{7} \\right)} & - \\left(\\left(\\sin{\\left(\\theta_{2} \\right)} \\cos{\\left(\\theta_{3} \\right)} \\cos{\\left(\\theta_{4} \\right)} - \\sin{\\left(\\theta_{4} \\right)} \\cos{\\left(\\theta_{2} \\right)}\\right) \\cos{\\left(\\theta_{5} \\right)} - \\sin{\\left(\\theta_{2} \\right)} \\sin{\\left(\\theta_{3} \\right)} \\sin{\\left(\\theta_{5} \\right)}\\right) \\sin{\\left(\\theta_{6} \\right)} + \\left(\\sin{\\left(\\theta_{2} \\right)} \\sin{\\left(\\theta_{4} \\right)} \\cos{\\left(\\theta_{3} \\right)} + \\cos{\\left(\\theta_{2} \\right)} \\cos{\\left(\\theta_{4} \\right)}\\right) \\cos{\\left(\\theta_{6} \\right)} & a \\left(\\left(\\sin{\\left(\\theta_{2} \\right)} \\cos{\\left(\\theta_{3} \\right)} \\cos{\\left(\\theta_{4} \\right)} - \\sin{\\left(\\theta_{4} \\right)} \\cos{\\left(\\theta_{2} \\right)}\\right) \\cos{\\left(\\theta_{5} \\right)} - \\sin{\\left(\\theta_{2} \\right)} \\sin{\\left(\\theta_{3} \\right)} \\sin{\\left(\\theta_{5} \\right)}\\right) \\cos{\\left(\\theta_{6} \\right)} + a \\left(\\sin{\\left(\\theta_{2} \\right)} \\sin{\\left(\\theta_{4} \\right)} \\cos{\\left(\\theta_{3} \\right)} + \\cos{\\left(\\theta_{2} \\right)} \\cos{\\left(\\theta_{4} \\right)}\\right) \\sin{\\left(\\theta_{6} \\right)} - a \\sin{\\left(\\theta_{2} \\right)} \\cos{\\left(\\theta_{3} \\right)} \\cos{\\left(\\theta_{4} \\right)} + a \\sin{\\left(\\theta_{2} \\right)} \\cos{\\left(\\theta_{3} \\right)} + a \\sin{\\left(\\theta_{4} \\right)} \\cos{\\left(\\theta_{2} \\right)} + d_{1} + d_{3} \\cos{\\left(\\theta_{2} \\right)} + d_{5} \\left(\\sin{\\left(\\theta_{2} \\right)} \\sin{\\left(\\theta_{4} \\right)} \\cos{\\left(\\theta_{3} \\right)} + \\cos{\\left(\\theta_{2} \\right)} \\cos{\\left(\\theta_{4} \\right)}\\right) - d_{7} \\left(- \\left(\\left(\\sin{\\left(\\theta_{2} \\right)} \\cos{\\left(\\theta_{3} \\right)} \\cos{\\left(\\theta_{4} \\right)} - \\sin{\\left(\\theta_{4} \\right)} \\cos{\\left(\\theta_{2} \\right)}\\right) \\cos{\\left(\\theta_{5} \\right)} - \\sin{\\left(\\theta_{2} \\right)} \\sin{\\left(\\theta_{3} \\right)} \\sin{\\left(\\theta_{5} \\right)}\\right) \\sin{\\left(\\theta_{6} \\right)} + \\left(\\sin{\\left(\\theta_{2} \\right)} \\sin{\\left(\\theta_{4} \\right)} \\cos{\\left(\\theta_{3} \\right)} + \\cos{\\left(\\theta_{2} \\right)} \\cos{\\left(\\theta_{4} \\right)}\\right) \\cos{\\left(\\theta_{6} \\right)}\\right)\\\\0 & 0 & 0 & 1\\end{matrix}\\right]$"
      ],
      "text/plain": [
       "Matrix([\n",
       "[((((-sin(theta1)*sin(theta3) + cos(theta1)*cos(theta2)*cos(theta3))*cos(theta4) + sin(theta2)*sin(theta4)*cos(theta1))*cos(theta5) + (-sin(theta1)*cos(theta3) - sin(theta3)*cos(theta1)*cos(theta2))*sin(theta5))*cos(theta6) + ((-sin(theta1)*sin(theta3) + cos(theta1)*cos(theta2)*cos(theta3))*sin(theta4) - sin(theta2)*cos(theta1)*cos(theta4))*sin(theta6))*cos(theta7) + (-((-sin(theta1)*sin(theta3) + cos(theta1)*cos(theta2)*cos(theta3))*cos(theta4) + sin(theta2)*sin(theta4)*cos(theta1))*sin(theta5) + (-sin(theta1)*cos(theta3) - sin(theta3)*cos(theta1)*cos(theta2))*cos(theta5))*sin(theta7), -((((-sin(theta1)*sin(theta3) + cos(theta1)*cos(theta2)*cos(theta3))*cos(theta4) + sin(theta2)*sin(theta4)*cos(theta1))*cos(theta5) + (-sin(theta1)*cos(theta3) - sin(theta3)*cos(theta1)*cos(theta2))*sin(theta5))*cos(theta6) + ((-sin(theta1)*sin(theta3) + cos(theta1)*cos(theta2)*cos(theta3))*sin(theta4) - sin(theta2)*cos(theta1)*cos(theta4))*sin(theta6))*sin(theta7) + (-((-sin(theta1)*sin(theta3) + cos(theta1)*cos(theta2)*cos(theta3))*cos(theta4) + sin(theta2)*sin(theta4)*cos(theta1))*sin(theta5) + (-sin(theta1)*cos(theta3) - sin(theta3)*cos(theta1)*cos(theta2))*cos(theta5))*cos(theta7), -(((-sin(theta1)*sin(theta3) + cos(theta1)*cos(theta2)*cos(theta3))*cos(theta4) + sin(theta2)*sin(theta4)*cos(theta1))*cos(theta5) + (-sin(theta1)*cos(theta3) - sin(theta3)*cos(theta1)*cos(theta2))*sin(theta5))*sin(theta6) + ((-sin(theta1)*sin(theta3) + cos(theta1)*cos(theta2)*cos(theta3))*sin(theta4) - sin(theta2)*cos(theta1)*cos(theta4))*cos(theta6), a*(((-sin(theta1)*sin(theta3) + cos(theta1)*cos(theta2)*cos(theta3))*cos(theta4) + sin(theta2)*sin(theta4)*cos(theta1))*cos(theta5) + (-sin(theta1)*cos(theta3) - sin(theta3)*cos(theta1)*cos(theta2))*sin(theta5))*cos(theta6) + a*((-sin(theta1)*sin(theta3) + cos(theta1)*cos(theta2)*cos(theta3))*sin(theta4) - sin(theta2)*cos(theta1)*cos(theta4))*sin(theta6) - a*(-sin(theta1)*sin(theta3) + cos(theta1)*cos(theta2)*cos(theta3))*cos(theta4) - a*sin(theta1)*sin(theta3) - a*sin(theta2)*sin(theta4)*cos(theta1) + a*cos(theta1)*cos(theta2)*cos(theta3) - d3*sin(theta2)*cos(theta1) + d5*((-sin(theta1)*sin(theta3) + cos(theta1)*cos(theta2)*cos(theta3))*sin(theta4) - sin(theta2)*cos(theta1)*cos(theta4)) - d7*(-(((-sin(theta1)*sin(theta3) + cos(theta1)*cos(theta2)*cos(theta3))*cos(theta4) + sin(theta2)*sin(theta4)*cos(theta1))*cos(theta5) + (-sin(theta1)*cos(theta3) - sin(theta3)*cos(theta1)*cos(theta2))*sin(theta5))*sin(theta6) + ((-sin(theta1)*sin(theta3) + cos(theta1)*cos(theta2)*cos(theta3))*sin(theta4) - sin(theta2)*cos(theta1)*cos(theta4))*cos(theta6))],\n",
       "[   ((((sin(theta1)*cos(theta2)*cos(theta3) + sin(theta3)*cos(theta1))*cos(theta4) + sin(theta1)*sin(theta2)*sin(theta4))*cos(theta5) + (-sin(theta1)*sin(theta3)*cos(theta2) + cos(theta1)*cos(theta3))*sin(theta5))*cos(theta6) + ((sin(theta1)*cos(theta2)*cos(theta3) + sin(theta3)*cos(theta1))*sin(theta4) - sin(theta1)*sin(theta2)*cos(theta4))*sin(theta6))*cos(theta7) + (-((sin(theta1)*cos(theta2)*cos(theta3) + sin(theta3)*cos(theta1))*cos(theta4) + sin(theta1)*sin(theta2)*sin(theta4))*sin(theta5) + (-sin(theta1)*sin(theta3)*cos(theta2) + cos(theta1)*cos(theta3))*cos(theta5))*sin(theta7),    -((((sin(theta1)*cos(theta2)*cos(theta3) + sin(theta3)*cos(theta1))*cos(theta4) + sin(theta1)*sin(theta2)*sin(theta4))*cos(theta5) + (-sin(theta1)*sin(theta3)*cos(theta2) + cos(theta1)*cos(theta3))*sin(theta5))*cos(theta6) + ((sin(theta1)*cos(theta2)*cos(theta3) + sin(theta3)*cos(theta1))*sin(theta4) - sin(theta1)*sin(theta2)*cos(theta4))*sin(theta6))*sin(theta7) + (-((sin(theta1)*cos(theta2)*cos(theta3) + sin(theta3)*cos(theta1))*cos(theta4) + sin(theta1)*sin(theta2)*sin(theta4))*sin(theta5) + (-sin(theta1)*sin(theta3)*cos(theta2) + cos(theta1)*cos(theta3))*cos(theta5))*cos(theta7),   -(((sin(theta1)*cos(theta2)*cos(theta3) + sin(theta3)*cos(theta1))*cos(theta4) + sin(theta1)*sin(theta2)*sin(theta4))*cos(theta5) + (-sin(theta1)*sin(theta3)*cos(theta2) + cos(theta1)*cos(theta3))*sin(theta5))*sin(theta6) + ((sin(theta1)*cos(theta2)*cos(theta3) + sin(theta3)*cos(theta1))*sin(theta4) - sin(theta1)*sin(theta2)*cos(theta4))*cos(theta6),       a*(((sin(theta1)*cos(theta2)*cos(theta3) + sin(theta3)*cos(theta1))*cos(theta4) + sin(theta1)*sin(theta2)*sin(theta4))*cos(theta5) + (-sin(theta1)*sin(theta3)*cos(theta2) + cos(theta1)*cos(theta3))*sin(theta5))*cos(theta6) + a*((sin(theta1)*cos(theta2)*cos(theta3) + sin(theta3)*cos(theta1))*sin(theta4) - sin(theta1)*sin(theta2)*cos(theta4))*sin(theta6) - a*(sin(theta1)*cos(theta2)*cos(theta3) + sin(theta3)*cos(theta1))*cos(theta4) - a*sin(theta1)*sin(theta2)*sin(theta4) + a*sin(theta1)*cos(theta2)*cos(theta3) + a*sin(theta3)*cos(theta1) - d3*sin(theta1)*sin(theta2) + d5*((sin(theta1)*cos(theta2)*cos(theta3) + sin(theta3)*cos(theta1))*sin(theta4) - sin(theta1)*sin(theta2)*cos(theta4)) - d7*(-(((sin(theta1)*cos(theta2)*cos(theta3) + sin(theta3)*cos(theta1))*cos(theta4) + sin(theta1)*sin(theta2)*sin(theta4))*cos(theta5) + (-sin(theta1)*sin(theta3)*cos(theta2) + cos(theta1)*cos(theta3))*sin(theta5))*sin(theta6) + ((sin(theta1)*cos(theta2)*cos(theta3) + sin(theta3)*cos(theta1))*sin(theta4) - sin(theta1)*sin(theta2)*cos(theta4))*cos(theta6))],\n",
       "[                                                                                                                                                                                                                                                 (((sin(theta2)*cos(theta3)*cos(theta4) - sin(theta4)*cos(theta2))*cos(theta5) - sin(theta2)*sin(theta3)*sin(theta5))*cos(theta6) + (sin(theta2)*sin(theta4)*cos(theta3) + cos(theta2)*cos(theta4))*sin(theta6))*cos(theta7) + (-(sin(theta2)*cos(theta3)*cos(theta4) - sin(theta4)*cos(theta2))*sin(theta5) - sin(theta2)*sin(theta3)*cos(theta5))*sin(theta7),                                                                                                                                                                                                                                                  -(((sin(theta2)*cos(theta3)*cos(theta4) - sin(theta4)*cos(theta2))*cos(theta5) - sin(theta2)*sin(theta3)*sin(theta5))*cos(theta6) + (sin(theta2)*sin(theta4)*cos(theta3) + cos(theta2)*cos(theta4))*sin(theta6))*sin(theta7) + (-(sin(theta2)*cos(theta3)*cos(theta4) - sin(theta4)*cos(theta2))*sin(theta5) - sin(theta2)*sin(theta3)*cos(theta5))*cos(theta7),                                                                                                                                                    -((sin(theta2)*cos(theta3)*cos(theta4) - sin(theta4)*cos(theta2))*cos(theta5) - sin(theta2)*sin(theta3)*sin(theta5))*sin(theta6) + (sin(theta2)*sin(theta4)*cos(theta3) + cos(theta2)*cos(theta4))*cos(theta6),                                                                                                                                                                                                                                                                                                                                                                                                                                                                a*((sin(theta2)*cos(theta3)*cos(theta4) - sin(theta4)*cos(theta2))*cos(theta5) - sin(theta2)*sin(theta3)*sin(theta5))*cos(theta6) + a*(sin(theta2)*sin(theta4)*cos(theta3) + cos(theta2)*cos(theta4))*sin(theta6) - a*sin(theta2)*cos(theta3)*cos(theta4) + a*sin(theta2)*cos(theta3) + a*sin(theta4)*cos(theta2) + d1 + d3*cos(theta2) + d5*(sin(theta2)*sin(theta4)*cos(theta3) + cos(theta2)*cos(theta4)) - d7*(-((sin(theta2)*cos(theta3)*cos(theta4) - sin(theta4)*cos(theta2))*cos(theta5) - sin(theta2)*sin(theta3)*sin(theta5))*sin(theta6) + (sin(theta2)*sin(theta4)*cos(theta3) + cos(theta2)*cos(theta4))*cos(theta6))],\n",
       "[                                                                                                                                                                                                                                                                                                                                                                                                                                                                                                                                                                                                              0,                                                                                                                                                                                                                                                                                                                                                                                                                                                                                                                                                                                                                0,                                                                                                                                                                                                                                                                                                                                                                 0,                                                                                                                                                                                                                                                                                                                                                                                                                                                                                                                                                                                                                                                                                                                                                                                                                                                                                                                                                                                                                                                                                                 1]])"
      ]
     },
     "execution_count": 126,
     "metadata": {},
     "output_type": "execute_result"
    }
   ],
   "source": [
    "trans = A1*A2*A3*A4*A5*A6*A7\n",
    "trans"
   ]
  },
  {
   "cell_type": "code",
   "execution_count": 1,
   "id": "74a5c51a",
   "metadata": {},
   "outputs": [
    {
     "ename": "NameError",
     "evalue": "name 'Matrix' is not defined",
     "output_type": "error",
     "traceback": [
      "\u001b[1;31m---------------------------------------------------------------------------\u001b[0m",
      "\u001b[1;31mNameError\u001b[0m                                 Traceback (most recent call last)",
      "Input \u001b[1;32mIn [1]\u001b[0m, in \u001b[0;36m<cell line: 14>\u001b[1;34m()\u001b[0m\n\u001b[0;32m     12\u001b[0m d7 \u001b[38;5;241m=\u001b[39m \u001b[38;5;241m0.1070\u001b[39m\n\u001b[0;32m     13\u001b[0m a \u001b[38;5;241m=\u001b[39m \u001b[38;5;241m0.0880\u001b[39m\n\u001b[1;32m---> 14\u001b[0m A1 \u001b[38;5;241m=\u001b[39m \u001b[43mMatrix\u001b[49m([[math\u001b[38;5;241m.\u001b[39mcos(math\u001b[38;5;241m.\u001b[39mradians(t1)),\u001b[38;5;241m0\u001b[39m,math\u001b[38;5;241m.\u001b[39msin(math\u001b[38;5;241m.\u001b[39mradians(t1)),\u001b[38;5;241m0\u001b[39m], [math\u001b[38;5;241m.\u001b[39msin(math\u001b[38;5;241m.\u001b[39mradians(t1)),\u001b[38;5;241m0\u001b[39m,\u001b[38;5;241m-\u001b[39mmath\u001b[38;5;241m.\u001b[39mcos(math\u001b[38;5;241m.\u001b[39mradians(t1)),\u001b[38;5;241m0\u001b[39m], [\u001b[38;5;241m0\u001b[39m,\u001b[38;5;241m1\u001b[39m,\u001b[38;5;241m0\u001b[39m,d1],[\u001b[38;5;241m0\u001b[39m,\u001b[38;5;241m0\u001b[39m,\u001b[38;5;241m0\u001b[39m,\u001b[38;5;241m1\u001b[39m]])\n\u001b[0;32m     15\u001b[0m A2 \u001b[38;5;241m=\u001b[39m Matrix([[math\u001b[38;5;241m.\u001b[39mcos(math\u001b[38;5;241m.\u001b[39mradians(t2)),\u001b[38;5;241m0\u001b[39m,\u001b[38;5;241m-\u001b[39mmath\u001b[38;5;241m.\u001b[39msin(math\u001b[38;5;241m.\u001b[39mradians(t2)),\u001b[38;5;241m0\u001b[39m], [math\u001b[38;5;241m.\u001b[39msin(math\u001b[38;5;241m.\u001b[39mradians(t2)),\u001b[38;5;241m0\u001b[39m,math\u001b[38;5;241m.\u001b[39mcos(math\u001b[38;5;241m.\u001b[39mradians(t2)),\u001b[38;5;241m0\u001b[39m], [\u001b[38;5;241m0\u001b[39m,\u001b[38;5;241m-\u001b[39m\u001b[38;5;241m1\u001b[39m,\u001b[38;5;241m0\u001b[39m,\u001b[38;5;241m0\u001b[39m],[\u001b[38;5;241m0\u001b[39m,\u001b[38;5;241m0\u001b[39m,\u001b[38;5;241m0\u001b[39m,\u001b[38;5;241m1\u001b[39m]])\n\u001b[0;32m     16\u001b[0m A3 \u001b[38;5;241m=\u001b[39mMatrix([[math\u001b[38;5;241m.\u001b[39mcos(math\u001b[38;5;241m.\u001b[39mradians(t3)),\u001b[38;5;241m0\u001b[39m,\u001b[38;5;241m-\u001b[39mmath\u001b[38;5;241m.\u001b[39msin(math\u001b[38;5;241m.\u001b[39mradians(t3)),a\u001b[38;5;241m*\u001b[39m(math\u001b[38;5;241m.\u001b[39mcos(math\u001b[38;5;241m.\u001b[39mradians(t3)))], [math\u001b[38;5;241m.\u001b[39msin(math\u001b[38;5;241m.\u001b[39mradians(t3)),\u001b[38;5;241m0\u001b[39m,math\u001b[38;5;241m.\u001b[39mcos(math\u001b[38;5;241m.\u001b[39mradians(t3)),a\u001b[38;5;241m*\u001b[39m(math\u001b[38;5;241m.\u001b[39msin(math\u001b[38;5;241m.\u001b[39mradians(t3)))], [\u001b[38;5;241m0\u001b[39m,\u001b[38;5;241m-\u001b[39m\u001b[38;5;241m1\u001b[39m,\u001b[38;5;241m0\u001b[39m,d3],[\u001b[38;5;241m0\u001b[39m,\u001b[38;5;241m0\u001b[39m,\u001b[38;5;241m0\u001b[39m,\u001b[38;5;241m1\u001b[39m]])\n",
      "\u001b[1;31mNameError\u001b[0m: name 'Matrix' is not defined"
     ]
    }
   ],
   "source": [
    "# CASE 1\n",
    "t1 = 0\n",
    "t2 = 0\n",
    "t3 = 0\n",
    "t4 = 90\n",
    "t5 = 0\n",
    "t6 = 180\n",
    "t7 = 0\n",
    "d1 = 0.3330\n",
    "d3 = 0.3160\n",
    "d5 = 0.3840\n",
    "d7 = 0.1070\n",
    "a = 0.0880\n",
    "A1 = Matrix([[math.cos(math.radians(t1)),0,math.sin(math.radians(t1)),0], [math.sin(math.radians(t1)),0,-math.cos(math.radians(t1)),0], [0,1,0,d1],[0,0,0,1]])\n",
    "A2 = Matrix([[math.cos(math.radians(t2)),0,-math.sin(math.radians(t2)),0], [math.sin(math.radians(t2)),0,math.cos(math.radians(t2)),0], [0,-1,0,0],[0,0,0,1]])\n",
    "A3 =Matrix([[math.cos(math.radians(t3)),0,-math.sin(math.radians(t3)),a*(math.cos(math.radians(t3)))], [math.sin(math.radians(t3)),0,math.cos(math.radians(t3)),a*(math.sin(math.radians(t3)))], [0,-1,0,d3],[0,0,0,1]])\n",
    "A4 = Matrix([[math.cos(math.radians(t4)),0,math.sin(math.radians(t4)),-a*(math.cos(math.radians(t4)))], [math.sin(math.radians(t4)),0,-math.cos(math.radians(t4)),-a*(math.sin(math.radians(t4)))], [0,1,0,0],[0,0,0,1]])\n",
    "A5 = Matrix([[math.cos(math.radians(t5)),0,math.sin(math.radians(t5)),0], [math.sin(math.radians(t5)),0,-math.cos(math.radians(t5)),0], [0,1,0,d5],[0,0,0,1]])\n",
    "A6 = Matrix([[math.cos(math.radians(t6)),0,-math.sin(math.radians(t6)),a*(math.cos(math.radians(t6)))], [math.sin(math.radians(t6)),0,math.cos(math.radians(t6)),a*(math.sin(math.radians(t6)))], [0,-1,0,0],[0,0,0,1]])\n",
    "A7 = Matrix([[math.cos(math.radians(t7)),-math.sin(math.radians(t7)),0,0], [math.sin(math.radians(t7)),math.cos(math.radians(t7)),0,0], [0,0,1,-d7],[0,0,0,1]])\n",
    "trans = np.round(A1*A2*A3*A4*A5*A6*A7)\n",
    "trans\n"
   ]
  },
  {
   "cell_type": "code",
   "execution_count": 128,
   "id": "7917902e",
   "metadata": {},
   "outputs": [
    {
     "data": {
      "text/latex": [
       "$\\displaystyle \\left[\\begin{matrix}-1.0 & -6.12323399573677 \\cdot 10^{-17} & 6.12323399573677 \\cdot 10^{-17} & 2.23498040844392 \\cdot 10^{-17}\\\\6.12323399573677 \\cdot 10^{-17} & -6.12323399573677 \\cdot 10^{-17} & 1.0 & 0.365\\\\-6.12323399573677 \\cdot 10^{-17} & 1.0 & 6.12323399573677 \\cdot 10^{-17} & 0.649\\\\0 & 0 & 0 & 1\\end{matrix}\\right]$"
      ],
      "text/plain": [
       "Matrix([\n",
       "[                 -1.0, -6.12323399573677e-17, 6.12323399573677e-17, 2.23498040844392e-17],\n",
       "[ 6.12323399573677e-17, -6.12323399573677e-17,                  1.0,                0.365],\n",
       "[-6.12323399573677e-17,                   1.0, 6.12323399573677e-17,                0.649],\n",
       "[                    0,                     0,                    0,                    1]])"
      ]
     },
     "execution_count": 128,
     "metadata": {},
     "output_type": "execute_result"
    }
   ],
   "source": [
    "# CASE 2\n",
    "t1 = 0\n",
    "t2 = 0\n",
    "t3 = 90\n",
    "t4 = 90\n",
    "t5 = 0\n",
    "t6 = 0\n",
    "t7 = 90\n",
    "d1 = 0.3330\n",
    "d3 = 0.3160\n",
    "d5 = 0.3840\n",
    "d7 = 0.1070\n",
    "a = 0.0880\n",
    "A1 = Matrix([[math.cos(math.radians(t1)),0,math.sin(math.radians(t1)),0], [math.sin(math.radians(t1)),0,-math.cos(math.radians(t1)),0], [0,1,0,d1],[0,0,0,1]])\n",
    "A2 = Matrix([[math.cos(math.radians(t2)),0,-math.sin(math.radians(t2)),0], [math.sin(math.radians(t2)),0,math.cos(math.radians(t2)),0], [0,-1,0,0],[0,0,0,1]])\n",
    "A3 =Matrix([[math.cos(math.radians(t3)),0,-math.sin(math.radians(t3)),a*(math.cos(math.radians(t3)))], [math.sin(math.radians(t3)),0,math.cos(math.radians(t3)),a*(math.sin(math.radians(t3)))], [0,-1,0,d3],[0,0,0,1]])\n",
    "A4 = Matrix([[math.cos(math.radians(t4)),0,math.sin(math.radians(t4)),-a*(math.cos(math.radians(t4)))], [math.sin(math.radians(t4)),0,-math.cos(math.radians(t4)),-a*(math.sin(math.radians(t4)))], [0,1,0,0],[0,0,0,1]])\n",
    "A5 = Matrix([[math.cos(math.radians(t5)),0,math.sin(math.radians(t5)),0], [math.sin(math.radians(t5)),0,-math.cos(math.radians(t5)),0], [0,1,0,d5],[0,0,0,1]])\n",
    "A6 = Matrix([[math.cos(math.radians(t6)),0,-math.sin(math.radians(t6)),a*(math.cos(math.radians(t6)))], [math.sin(math.radians(t6)),0,math.cos(math.radians(t6)),a*(math.sin(math.radians(t6)))], [0,-1,0,0],[0,0,0,1]])\n",
    "A7 = Matrix([[math.cos(math.radians(t7)),-math.sin(math.radians(t7)),0,0], [math.sin(math.radians(t7)),math.cos(math.radians(t7)),0,0], [0,0,1,-d7],[0,0,0,1]])\n",
    "trans = A1*A2*A3*A4*A5*A6*A7\n",
    "trans"
   ]
  },
  {
   "cell_type": "code",
   "execution_count": 129,
   "id": "70c4c9f4",
   "metadata": {},
   "outputs": [
    {
     "data": {
      "text/latex": [
       "$\\displaystyle \\left[\\begin{matrix}0.612372435695795 & -0.353553390593274 & -0.707106781186548 & -0.511868578388674\\\\0.612372435695795 & -0.353553390593274 & 0.707106781186548 & 0.283868578388674\\\\-0.5 & -0.866025403784439 & 8.65956056235493 \\cdot 10^{-17} & 0.333\\\\0 & 0 & 0 & 1\\end{matrix}\\right]$"
      ],
      "text/plain": [
       "Matrix([\n",
       "[0.612372435695795, -0.353553390593274,   -0.707106781186548, -0.511868578388674],\n",
       "[0.612372435695795, -0.353553390593274,    0.707106781186548,  0.283868578388674],\n",
       "[             -0.5, -0.866025403784439, 8.65956056235493e-17,              0.333],\n",
       "[                0,                  0,                    0,                  1]])"
      ]
     },
     "execution_count": 129,
     "metadata": {},
     "output_type": "execute_result"
    }
   ],
   "source": [
    "# CASE 3\n",
    "t1 = 0\n",
    "t2 = 90\n",
    "t3 = 90\n",
    "t4 = 45\n",
    "t5 = 0\n",
    "t6 = 0\n",
    "t7 = 30\n",
    "d1 = 0.3330\n",
    "d3 = 0.3160\n",
    "d5 = 0.3840\n",
    "d7 = 0.1070\n",
    "a = 0.0880\n",
    "A1 = Matrix([[math.cos(math.radians(t1)),0,math.sin(math.radians(t1)),0], [math.sin(math.radians(t1)),0,-math.cos(math.radians(t1)),0], [0,1,0,d1],[0,0,0,1]])\n",
    "A2 = Matrix([[math.cos(math.radians(t2)),0,-math.sin(math.radians(t2)),0], [math.sin(math.radians(t2)),0,math.cos(math.radians(t2)),0], [0,-1,0,0],[0,0,0,1]])\n",
    "A3 =Matrix([[math.cos(math.radians(t3)),0,-math.sin(math.radians(t3)),a*(math.cos(math.radians(t3)))], [math.sin(math.radians(t3)),0,math.cos(math.radians(t3)),a*(math.sin(math.radians(t3)))], [0,-1,0,d3],[0,0,0,1]])\n",
    "A4 = Matrix([[math.cos(math.radians(t4)),0,math.sin(math.radians(t4)),-a*(math.cos(math.radians(t4)))], [math.sin(math.radians(t4)),0,-math.cos(math.radians(t4)),-a*(math.sin(math.radians(t4)))], [0,1,0,0],[0,0,0,1]])\n",
    "A5 = Matrix([[math.cos(math.radians(t5)),0,math.sin(math.radians(t5)),0], [math.sin(math.radians(t5)),0,-math.cos(math.radians(t5)),0], [0,1,0,d5],[0,0,0,1]])\n",
    "A6 = Matrix([[math.cos(math.radians(t6)),0,-math.sin(math.radians(t6)),a*(math.cos(math.radians(t6)))], [math.sin(math.radians(t6)),0,math.cos(math.radians(t6)),a*(math.sin(math.radians(t6)))], [0,-1,0,0],[0,0,0,1]])\n",
    "A7 = Matrix([[math.cos(math.radians(t7)),-math.sin(math.radians(t7)),0,0], [math.sin(math.radians(t7)),math.cos(math.radians(t7)),0,0], [0,0,1,-d7],[0,0,0,1]])\n",
    "trans = A1*A2*A3*A4*A5*A6*A7\n",
    "trans"
   ]
  },
  {
   "cell_type": "code",
   "execution_count": 130,
   "id": "3284e78c",
   "metadata": {},
   "outputs": [
    {
     "data": {
      "text/latex": [
       "$\\displaystyle \\left[\\begin{matrix}-0.558526494271778 & -0.758022221559489 & -0.336824088833465 & -0.201378637897781\\\\0.754406506735489 & -0.633022221559489 & 0.17364817766693 & 0.13610054521374\\\\-0.344846310392954 & -0.157115176332225 & 0.925416578398323 & 0.886283260384683\\\\0 & 0 & 0 & 1\\end{matrix}\\right]$"
      ],
      "text/plain": [
       "Matrix([\n",
       "[-0.558526494271778, -0.758022221559489, -0.336824088833465, -0.201378637897781],\n",
       "[ 0.754406506735489, -0.633022221559489,   0.17364817766693,   0.13610054521374],\n",
       "[-0.344846310392954, -0.157115176332225,  0.925416578398323,  0.886283260384683],\n",
       "[                 0,                  0,                  0,                  1]])"
      ]
     },
     "execution_count": 130,
     "metadata": {},
     "output_type": "execute_result"
    }
   ],
   "source": [
    "# CASE 4\n",
    "t1 = 0\n",
    "t2 = 20\n",
    "t3 = 90\n",
    "t4 = 10\n",
    "t5 = 0\n",
    "t6 = 0\n",
    "t7 = 40\n",
    "d1 = 0.3330\n",
    "d3 = 0.3160\n",
    "d5 = 0.3840\n",
    "d7 = 0.1070\n",
    "a = 0.0880\n",
    "A1 = Matrix([[math.cos(math.radians(t1)),0,math.sin(math.radians(t1)),0], [math.sin(math.radians(t1)),0,-math.cos(math.radians(t1)),0], [0,1,0,d1],[0,0,0,1]])\n",
    "A2 = Matrix([[math.cos(math.radians(t2)),0,-math.sin(math.radians(t2)),0], [math.sin(math.radians(t2)),0,math.cos(math.radians(t2)),0], [0,-1,0,0],[0,0,0,1]])\n",
    "A3 =Matrix([[math.cos(math.radians(t3)),0,-math.sin(math.radians(t3)),a*(math.cos(math.radians(t3)))], [math.sin(math.radians(t3)),0,math.cos(math.radians(t3)),a*(math.sin(math.radians(t3)))], [0,-1,0,d3],[0,0,0,1]])\n",
    "A4 = Matrix([[math.cos(math.radians(t4)),0,math.sin(math.radians(t4)),-a*(math.cos(math.radians(t4)))], [math.sin(math.radians(t4)),0,-math.cos(math.radians(t4)),-a*(math.sin(math.radians(t4)))], [0,1,0,0],[0,0,0,1]])\n",
    "A5 = Matrix([[math.cos(math.radians(t5)),0,math.sin(math.radians(t5)),0], [math.sin(math.radians(t5)),0,-math.cos(math.radians(t5)),0], [0,1,0,d5],[0,0,0,1]])\n",
    "A6 = Matrix([[math.cos(math.radians(t6)),0,-math.sin(math.radians(t6)),a*(math.cos(math.radians(t6)))], [math.sin(math.radians(t6)),0,math.cos(math.radians(t6)),a*(math.sin(math.radians(t6)))], [0,-1,0,0],[0,0,0,1]])\n",
    "A7 = Matrix([[math.cos(math.radians(t7)),-math.sin(math.radians(t7)),0,0], [math.sin(math.radians(t7)),math.cos(math.radians(t7)),0,0], [0,0,1,-d7],[0,0,0,1]])\n",
    "trans = A1*A2*A3*A4*A5*A6*A7\n",
    "trans"
   ]
  },
  {
   "cell_type": "code",
   "execution_count": 131,
   "id": "3a2d9fc9",
   "metadata": {},
   "outputs": [
    {
     "data": {
      "text/latex": [
       "$\\displaystyle \\left[\\begin{matrix}-0.544639035015027 & -0.838670567945424 & -4.86767383836093 \\cdot 10^{-18} & -0.341774603255584\\\\0.772000328241478 & -0.501342875110986 & 0.390731128489274 & 0.199895641609824\\\\-0.327694697444056 & 0.212807424770731 & 0.92050485345244 & 0.644670872019502\\\\0 & 0 & 0 & 1\\end{matrix}\\right]$"
      ],
      "text/plain": [
       "Matrix([\n",
       "[-0.544639035015027, -0.838670567945424, -4.86767383836093e-18, -0.341774603255584],\n",
       "[ 0.772000328241478, -0.501342875110986,     0.390731128489274,  0.199895641609824],\n",
       "[-0.327694697444056,  0.212807424770731,      0.92050485345244,  0.644670872019502],\n",
       "[                 0,                  0,                     0,                  1]])"
      ]
     },
     "execution_count": 131,
     "metadata": {},
     "output_type": "execute_result"
    }
   ],
   "source": [
    "# CASE 5\n",
    "t1 = 0\n",
    "t2 = 90\n",
    "t3 = 23\n",
    "t4 = 90\n",
    "t5 = 45\n",
    "t6 = 0\n",
    "t7 = 78\n",
    "d1 = 0.3330\n",
    "d3 = 0.3160\n",
    "d5 = 0.3840\n",
    "d7 = 0.1070\n",
    "a = 0.0880\n",
    "A1 = Matrix([[math.cos(math.radians(t1)),0,math.sin(math.radians(t1)),0], [math.sin(math.radians(t1)),0,-math.cos(math.radians(t1)),0], [0,1,0,d1],[0,0,0,1]])\n",
    "A2 = Matrix([[math.cos(math.radians(t2)),0,-math.sin(math.radians(t2)),0], [math.sin(math.radians(t2)),0,math.cos(math.radians(t2)),0], [0,-1,0,0],[0,0,0,1]])\n",
    "A3 =Matrix([[math.cos(math.radians(t3)),0,-math.sin(math.radians(t3)),a*(math.cos(math.radians(t3)))], [math.sin(math.radians(t3)),0,math.cos(math.radians(t3)),a*(math.sin(math.radians(t3)))], [0,-1,0,d3],[0,0,0,1]])\n",
    "A4 = Matrix([[math.cos(math.radians(t4)),0,math.sin(math.radians(t4)),-a*(math.cos(math.radians(t4)))], [math.sin(math.radians(t4)),0,-math.cos(math.radians(t4)),-a*(math.sin(math.radians(t4)))], [0,1,0,0],[0,0,0,1]])\n",
    "A5 = Matrix([[math.cos(math.radians(t5)),0,math.sin(math.radians(t5)),0], [math.sin(math.radians(t5)),0,-math.cos(math.radians(t5)),0], [0,1,0,d5],[0,0,0,1]])\n",
    "A6 = Matrix([[math.cos(math.radians(t6)),0,-math.sin(math.radians(t6)),a*(math.cos(math.radians(t6)))], [math.sin(math.radians(t6)),0,math.cos(math.radians(t6)),a*(math.sin(math.radians(t6)))], [0,-1,0,0],[0,0,0,1]])\n",
    "A7 = Matrix([[math.cos(math.radians(t7)),-math.sin(math.radians(t7)),0,0], [math.sin(math.radians(t7)),math.cos(math.radians(t7)),0,0], [0,0,1,-d7],[0,0,0,1]])\n",
    "trans = A1*A2*A3*A4*A5*A6*A7\n",
    "trans"
   ]
  }
 ],
 "metadata": {
  "kernelspec": {
   "display_name": "Python 3 (ipykernel)",
   "language": "python",
   "name": "python3"
  },
  "language_info": {
   "codemirror_mode": {
    "name": "ipython",
    "version": 3
   },
   "file_extension": ".py",
   "mimetype": "text/x-python",
   "name": "python",
   "nbconvert_exporter": "python",
   "pygments_lexer": "ipython3",
   "version": "3.9.12"
  }
 },
 "nbformat": 4,
 "nbformat_minor": 5
}
